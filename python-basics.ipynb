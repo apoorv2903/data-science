{
 "cells": [
  {
   "cell_type": "code",
   "execution_count": 1,
   "metadata": {},
   "outputs": [
    {
     "name": "stdout",
     "output_type": "stream",
     "text": [
      "<class 'str'>\n",
      "<class 'int'>\n",
      "<class 'float'>\n",
      "<class 'bool'>\n"
     ]
    }
   ],
   "source": [
    "#Basic data types\n",
    "\n",
    "print(type(\"Hello World!\")) #str\n",
    "print(type(2)) #int\n",
    "print(type(2.9)) #float\n",
    "print(type(True)) #bool"
   ]
  },
  {
   "cell_type": "code",
   "execution_count": 3,
   "metadata": {},
   "outputs": [
    {
     "name": "stdout",
     "output_type": "stream",
     "text": [
      "<class 'int'>\n",
      "<class 'float'>\n",
      "<class 'float'>\n",
      "<class 'str'>\n"
     ]
    }
   ],
   "source": [
    "#Data type conversion\n",
    "\n",
    "print(type(int('2'))) #converting from string to int\n",
    "print(type(float('2.9'))) #converting from string to float\n",
    "print(type(float(2))) # converting from int to float\n",
    "print(type(str(2))) #converting from int to string"
   ]
  },
  {
   "cell_type": "code",
   "execution_count": 7,
   "metadata": {},
   "outputs": [
    {
     "name": "stdout",
     "output_type": "stream",
     "text": [
      "1\n",
      "1.3333333333333333\n",
      "2\n",
      "1024\n"
     ]
    }
   ],
   "source": [
    "#basic operations\n",
    "\n",
    "print(4//3) #integer division\n",
    "print(4/3) #float division\n",
    "print(8%3) #modulo i.e. remainder\n",
    "print(2**10) #exponential "
   ]
  },
  {
   "cell_type": "code",
   "execution_count": 15,
   "metadata": {},
   "outputs": [
    {
     "name": "stdout",
     "output_type": "stream",
     "text": [
      "14\n",
      "Apoorv Agrawal\n",
      "Apoorv\n",
      "Aor\n",
      "Aor gaa\n",
      "2\n"
     ]
    }
   ],
   "source": [
    "#string methods\n",
    "\n",
    "name = \"Apoorva Agrawal\"\n",
    "#replace\n",
    "name = name.replace(\"Apoorva\", \"Apoorv\")\n",
    "#length\n",
    "print(len(name))\n",
    "print(name)\n",
    "#slicing\n",
    "firstName = name[0:6]\n",
    "print(firstName)\n",
    "#stride\n",
    "print(name[:6:2]) #print every 2nd character till string's 5th index\n",
    "print(name[::2]) #print every 2nd character in whole string\n",
    "#find a character or substring \n",
    "print(name.find('oo')) # returns the starting index of the substring, if not found returns -1"
   ]
  },
  {
   "cell_type": "code",
   "execution_count": null,
   "metadata": {},
   "outputs": [],
   "source": [
    "\n"
   ]
  }
 ],
 "metadata": {
  "kernelspec": {
   "display_name": "Python 3",
   "language": "python",
   "name": "python3"
  },
  "language_info": {
   "codemirror_mode": {
    "name": "ipython",
    "version": 3
   },
   "file_extension": ".py",
   "mimetype": "text/x-python",
   "name": "python",
   "nbconvert_exporter": "python",
   "pygments_lexer": "ipython3",
   "version": "3.6.7"
  }
 },
 "nbformat": 4,
 "nbformat_minor": 2
}
